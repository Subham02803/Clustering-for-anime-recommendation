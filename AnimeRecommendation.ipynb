{
 "cells": [
  {
   "cell_type": "code",
   "execution_count": 26,
   "metadata": {},
   "outputs": [],
   "source": [
    "import numpy as np \n",
    "import pandas as pd \n",
    "import matplotlib.pyplot as plt\n",
    "from mpl_toolkits.mplot3d import Axes3D\n",
    "\n",
    "%matplotlib inline\n",
    "\n",
    "\n",
    "plt.rcParams['figure.figsize'] = (6, 4)\n",
    "plt.style.use('ggplot')\n",
    "%config InlineBackend.figure_formats = {'png', 'retina'}"
   ]
  },
  {
   "cell_type": "code",
   "execution_count": 27,
   "metadata": {},
   "outputs": [
    {
     "data": {
      "text/html": [
       "<div>\n",
       "<style scoped>\n",
       "    .dataframe tbody tr th:only-of-type {\n",
       "        vertical-align: middle;\n",
       "    }\n",
       "\n",
       "    .dataframe tbody tr th {\n",
       "        vertical-align: top;\n",
       "    }\n",
       "\n",
       "    .dataframe thead th {\n",
       "        text-align: right;\n",
       "    }\n",
       "</style>\n",
       "<table border=\"1\" class=\"dataframe\">\n",
       "  <thead>\n",
       "    <tr style=\"text-align: right;\">\n",
       "      <th></th>\n",
       "      <th>anime_id</th>\n",
       "      <th>name</th>\n",
       "      <th>genre</th>\n",
       "      <th>type</th>\n",
       "      <th>episodes</th>\n",
       "      <th>rating</th>\n",
       "      <th>members</th>\n",
       "    </tr>\n",
       "  </thead>\n",
       "  <tbody>\n",
       "    <tr>\n",
       "      <td>0</td>\n",
       "      <td>32281</td>\n",
       "      <td>Kimi no Na wa.</td>\n",
       "      <td>Drama, Romance, School, Supernatural</td>\n",
       "      <td>Movie</td>\n",
       "      <td>1</td>\n",
       "      <td>9.37</td>\n",
       "      <td>200630</td>\n",
       "    </tr>\n",
       "    <tr>\n",
       "      <td>1</td>\n",
       "      <td>5114</td>\n",
       "      <td>Fullmetal Alchemist: Brotherhood</td>\n",
       "      <td>Action, Adventure, Drama, Fantasy, Magic, Mili...</td>\n",
       "      <td>TV</td>\n",
       "      <td>64</td>\n",
       "      <td>9.26</td>\n",
       "      <td>793665</td>\n",
       "    </tr>\n",
       "    <tr>\n",
       "      <td>2</td>\n",
       "      <td>28977</td>\n",
       "      <td>Gintama°</td>\n",
       "      <td>Action, Comedy, Historical, Parody, Samurai, S...</td>\n",
       "      <td>TV</td>\n",
       "      <td>51</td>\n",
       "      <td>9.25</td>\n",
       "      <td>114262</td>\n",
       "    </tr>\n",
       "    <tr>\n",
       "      <td>3</td>\n",
       "      <td>9253</td>\n",
       "      <td>Steins;Gate</td>\n",
       "      <td>Sci-Fi, Thriller</td>\n",
       "      <td>TV</td>\n",
       "      <td>24</td>\n",
       "      <td>9.17</td>\n",
       "      <td>673572</td>\n",
       "    </tr>\n",
       "    <tr>\n",
       "      <td>4</td>\n",
       "      <td>9969</td>\n",
       "      <td>Gintama&amp;#039;</td>\n",
       "      <td>Action, Comedy, Historical, Parody, Samurai, S...</td>\n",
       "      <td>TV</td>\n",
       "      <td>51</td>\n",
       "      <td>9.16</td>\n",
       "      <td>151266</td>\n",
       "    </tr>\n",
       "  </tbody>\n",
       "</table>\n",
       "</div>"
      ],
      "text/plain": [
       "   anime_id                              name  \\\n",
       "0     32281                    Kimi no Na wa.   \n",
       "1      5114  Fullmetal Alchemist: Brotherhood   \n",
       "2     28977                          Gintama°   \n",
       "3      9253                       Steins;Gate   \n",
       "4      9969                     Gintama&#039;   \n",
       "\n",
       "                                               genre   type episodes  rating  \\\n",
       "0               Drama, Romance, School, Supernatural  Movie        1    9.37   \n",
       "1  Action, Adventure, Drama, Fantasy, Magic, Mili...     TV       64    9.26   \n",
       "2  Action, Comedy, Historical, Parody, Samurai, S...     TV       51    9.25   \n",
       "3                                   Sci-Fi, Thriller     TV       24    9.17   \n",
       "4  Action, Comedy, Historical, Parody, Samurai, S...     TV       51    9.16   \n",
       "\n",
       "   members  \n",
       "0   200630  \n",
       "1   793665  \n",
       "2   114262  \n",
       "3   673572  \n",
       "4   151266  "
      ]
     },
     "execution_count": 27,
     "metadata": {},
     "output_type": "execute_result"
    }
   ],
   "source": [
    "anime = pd.read_csv('anime.csv')\n",
    "anime.head()"
   ]
  },
  {
   "cell_type": "code",
   "execution_count": 28,
   "metadata": {},
   "outputs": [
    {
     "data": {
      "text/html": [
       "<div>\n",
       "<style scoped>\n",
       "    .dataframe tbody tr th:only-of-type {\n",
       "        vertical-align: middle;\n",
       "    }\n",
       "\n",
       "    .dataframe tbody tr th {\n",
       "        vertical-align: top;\n",
       "    }\n",
       "\n",
       "    .dataframe thead th {\n",
       "        text-align: right;\n",
       "    }\n",
       "</style>\n",
       "<table border=\"1\" class=\"dataframe\">\n",
       "  <thead>\n",
       "    <tr style=\"text-align: right;\">\n",
       "      <th></th>\n",
       "      <th>user_id</th>\n",
       "      <th>anime_id</th>\n",
       "      <th>rating</th>\n",
       "    </tr>\n",
       "  </thead>\n",
       "  <tbody>\n",
       "    <tr>\n",
       "      <td>6803043</td>\n",
       "      <td>62984</td>\n",
       "      <td>6213</td>\n",
       "      <td>8</td>\n",
       "    </tr>\n",
       "    <tr>\n",
       "      <td>3798106</td>\n",
       "      <td>35490</td>\n",
       "      <td>16706</td>\n",
       "      <td>10</td>\n",
       "    </tr>\n",
       "    <tr>\n",
       "      <td>7211790</td>\n",
       "      <td>67264</td>\n",
       "      <td>318</td>\n",
       "      <td>7</td>\n",
       "    </tr>\n",
       "    <tr>\n",
       "      <td>1841326</td>\n",
       "      <td>17842</td>\n",
       "      <td>12189</td>\n",
       "      <td>9</td>\n",
       "    </tr>\n",
       "    <tr>\n",
       "      <td>6343647</td>\n",
       "      <td>58912</td>\n",
       "      <td>101</td>\n",
       "      <td>10</td>\n",
       "    </tr>\n",
       "    <tr>\n",
       "      <td>187328</td>\n",
       "      <td>1873</td>\n",
       "      <td>3731</td>\n",
       "      <td>7</td>\n",
       "    </tr>\n",
       "    <tr>\n",
       "      <td>7112040</td>\n",
       "      <td>66343</td>\n",
       "      <td>12467</td>\n",
       "      <td>4</td>\n",
       "    </tr>\n",
       "    <tr>\n",
       "      <td>2076064</td>\n",
       "      <td>20106</td>\n",
       "      <td>5460</td>\n",
       "      <td>8</td>\n",
       "    </tr>\n",
       "    <tr>\n",
       "      <td>3149882</td>\n",
       "      <td>29111</td>\n",
       "      <td>5507</td>\n",
       "      <td>7</td>\n",
       "    </tr>\n",
       "    <tr>\n",
       "      <td>5591828</td>\n",
       "      <td>52504</td>\n",
       "      <td>710</td>\n",
       "      <td>8</td>\n",
       "    </tr>\n",
       "  </tbody>\n",
       "</table>\n",
       "</div>"
      ],
      "text/plain": [
       "         user_id  anime_id  rating\n",
       "6803043    62984      6213       8\n",
       "3798106    35490     16706      10\n",
       "7211790    67264       318       7\n",
       "1841326    17842     12189       9\n",
       "6343647    58912       101      10\n",
       "187328      1873      3731       7\n",
       "7112040    66343     12467       4\n",
       "2076064    20106      5460       8\n",
       "3149882    29111      5507       7\n",
       "5591828    52504       710       8"
      ]
     },
     "execution_count": 28,
     "metadata": {},
     "output_type": "execute_result"
    }
   ],
   "source": [
    "user = pd.read_csv('rating.csv')\n",
    "user.sample(10)"
   ]
  },
  {
   "cell_type": "code",
   "execution_count": 29,
   "metadata": {},
   "outputs": [
    {
     "name": "stdout",
     "output_type": "stream",
     "text": [
      "Shape of anime dataset (12294, 7)\n"
     ]
    }
   ],
   "source": [
    "print(\"Shape of anime dataset {}\".format(anime.shape))"
   ]
  },
  {
   "cell_type": "code",
   "execution_count": 30,
   "metadata": {},
   "outputs": [
    {
     "name": "stdout",
     "output_type": "stream",
     "text": [
      "Shape of user dataset (7813737, 3)\n"
     ]
    }
   ],
   "source": [
    "print(\"Shape of user dataset {}\".format(user.shape))"
   ]
  },
  {
   "cell_type": "code",
   "execution_count": 17,
   "metadata": {},
   "outputs": [
    {
     "data": {
      "text/plain": [
       "-0.7124183006535948"
      ]
     },
     "execution_count": 17,
     "metadata": {},
     "output_type": "execute_result"
    }
   ],
   "source": [
    "user[user['user_id'] == 1].rating.mean()"
   ]
  },
  {
   "cell_type": "code",
   "execution_count": 18,
   "metadata": {},
   "outputs": [
    {
     "data": {
      "text/plain": [
       "7.387755102040816"
      ]
     },
     "execution_count": 18,
     "metadata": {},
     "output_type": "execute_result"
    }
   ],
   "source": [
    "user[user['user_id'] == 7].rating.mean()"
   ]
  },
  {
   "cell_type": "code",
   "execution_count": 31,
   "metadata": {},
   "outputs": [
    {
     "name": "stdout",
     "output_type": "stream",
     "text": [
      "   user_id      anime_id    rating\n",
      "0        1  12888.483660 -0.712418\n",
      "1        2  13459.000000  2.666667\n",
      "2        3  13352.744681  7.382979\n",
      "3        4  10135.403846 -1.000000\n",
      "4        5  11023.301927  4.263383\n",
      "5        6   7752.135135 -1.000000\n",
      "6        7  15824.320700  7.387755\n",
      "7        8   8699.166667  8.333333\n",
      "8        9   1887.000000  8.000000\n",
      "9       10   8579.875000  2.875000\n",
      "Shape of this datset is (73515, 3)\n"
     ]
    }
   ],
   "source": [
    "Mean_Rate = user.groupby(['user_id']).mean().reset_index()\n",
    "print(Mean_Rate.head(10))\n",
    "print(\"Shape of this datset is {}\".format(Mean_Rate.shape))"
   ]
  },
  {
   "cell_type": "code",
   "execution_count": 37,
   "metadata": {},
   "outputs": [
    {
     "name": "stdout",
     "output_type": "stream",
     "text": [
      "   user_id      anime_id    rating  mean_rating\n",
      "0        1  12888.483660 -0.712418    -0.712418\n",
      "1        2  13459.000000  2.666667     2.666667\n",
      "2        3  13352.744681  7.382979     7.382979\n",
      "3        4  10135.403846 -1.000000    -1.000000\n",
      "4        5  11023.301927  4.263383     4.263383\n"
     ]
    }
   ],
   "source": [
    "Mean_Rate['mean_rating'] = Mean_Rate['rating']\n",
    "print(Mean_Rate.head())"
   ]
  },
  {
   "cell_type": "code",
   "execution_count": 38,
   "metadata": {},
   "outputs": [
    {
     "name": "stdout",
     "output_type": "stream",
     "text": [
      "   user_id  mean_rating\n",
      "0        1    -0.712418\n",
      "1        2     2.666667\n",
      "2        3     7.382979\n",
      "3        4    -1.000000\n",
      "4        5     4.263383\n"
     ]
    }
   ],
   "source": [
    "Mean_Rate.drop(['anime_id','rating'], axis=1,inplace=True)\n",
    "print(Mean_Rate.head())"
   ]
  },
  {
   "cell_type": "code",
   "execution_count": 39,
   "metadata": {},
   "outputs": [
    {
     "name": "stdout",
     "output_type": "stream",
     "text": [
      "   user_id  anime_id  rating  mean_rating\n",
      "0        1        20      -1    -0.712418\n",
      "1        1        24      -1    -0.712418\n",
      "2        1        79      -1    -0.712418\n",
      "3        1       226      -1    -0.712418\n",
      "4        1       241      -1    -0.712418\n"
     ]
    }
   ],
   "source": [
    "user = pd.merge(user, Mean_Rate, on=['user_id', 'user_id'])\n",
    "print(user.head())"
   ]
  },
  {
   "cell_type": "code",
   "execution_count": 43,
   "metadata": {},
   "outputs": [],
   "source": [
    "#If user rating is less then mean_rating we drop that column as we are looking which anime is liked by the user\n",
    "user = user.drop(user[user.rating < user.mean_rating].index)"
   ]
  },
  {
   "cell_type": "code",
   "execution_count": 44,
   "metadata": {},
   "outputs": [
    {
     "name": "stdout",
     "output_type": "stream",
     "text": [
      "     user_id  anime_id  rating  mean_rating\n",
      "47         1      8074      10    -0.712418\n",
      "81         1     11617      10    -0.712418\n",
      "83         1     11757      10    -0.712418\n",
      "101        1     15451      10    -0.712418\n"
     ]
    }
   ],
   "source": [
    "print(user[user['user_id'] == 1])"
   ]
  },
  {
   "cell_type": "code",
   "execution_count": 45,
   "metadata": {},
   "outputs": [
    {
     "name": "stdout",
     "output_type": "stream",
     "text": [
      "      user_id  anime_id  rating  mean_rating\n",
      "807         7        30      10     7.387755\n",
      "808         7        31       9     7.387755\n",
      "809         7        32       9     7.387755\n",
      "811         7        64       8     7.387755\n",
      "813         7       111       8     7.387755\n",
      "...       ...       ...     ...          ...\n",
      "1121        7     31149       8     7.387755\n",
      "1130        7     31704       8     7.387755\n",
      "1131        7     31716       8     7.387755\n",
      "1140        7     32093       8     7.387755\n",
      "1147        7     33091       8     7.387755\n",
      "\n",
      "[164 rows x 4 columns]\n"
     ]
    }
   ],
   "source": [
    "print(user[user['user_id'] == 7])"
   ]
  },
  {
   "cell_type": "code",
   "execution_count": 46,
   "metadata": {},
   "outputs": [
    {
     "name": "stdout",
     "output_type": "stream",
     "text": [
      "Updated shape of the user is now (4262566, 4)\n"
     ]
    }
   ],
   "source": [
    "print(\"Updated shape of the user is now {}\".format(user.shape))"
   ]
  },
  {
   "cell_type": "code",
   "execution_count": 49,
   "metadata": {},
   "outputs": [
    {
     "name": "stdout",
     "output_type": "stream",
     "text": [
      "[    1     2     3 ... 73514 73515 73516]\n",
      "73515\n"
     ]
    }
   ],
   "source": [
    "unique_user = np.unique(user['user_id'])\n",
    "print(unique_user)\n",
    "print(len(unique_user))"
   ]
  },
  {
   "cell_type": "code",
   "execution_count": 54,
   "metadata": {},
   "outputs": [
    {
     "name": "stdout",
     "output_type": "stream",
     "text": [
      "     user_id  anime_id  userRating  mean_rating\n",
      "47         1      8074          10    -0.712418\n",
      "81         1     11617          10    -0.712418\n",
      "83         1     11757          10    -0.712418\n",
      "101        1     15451          10    -0.712418\n",
      "153        2     11771          10     2.666667\n"
     ]
    }
   ],
   "source": [
    "user = user.rename({'rating':'userRating'}, axis='columns')\n",
    "print(user.head())"
   ]
  },
  {
   "cell_type": "code",
   "execution_count": 56,
   "metadata": {},
   "outputs": [
    {
     "name": "stdout",
     "output_type": "stream",
     "text": [
      "   anime_id            name                                 genre   type  \\\n",
      "0     32281  Kimi no Na wa.  Drama, Romance, School, Supernatural  Movie   \n",
      "1     32281  Kimi no Na wa.  Drama, Romance, School, Supernatural  Movie   \n",
      "2     32281  Kimi no Na wa.  Drama, Romance, School, Supernatural  Movie   \n",
      "3     32281  Kimi no Na wa.  Drama, Romance, School, Supernatural  Movie   \n",
      "4     32281  Kimi no Na wa.  Drama, Romance, School, Supernatural  Movie   \n",
      "\n",
      "  episodes  rating  members  user_id  userRating  mean_rating  \n",
      "0        1    9.37   200630      152          10     7.699301  \n",
      "1        1    9.37   200630      244          10     8.729242  \n",
      "2        1    9.37   200630      271          10     7.372287  \n",
      "3        1    9.37   200630      322          10     8.356322  \n",
      "4        1    9.37   200630      398          10    -0.832298  \n"
     ]
    }
   ],
   "source": [
    "mergedata = pd.merge(anime, user, on=['anime_id','anime_id'])\n",
    "print(mergedata.head())"
   ]
  },
  {
   "cell_type": "code",
   "execution_count": 60,
   "metadata": {},
   "outputs": [
    {
     "name": "stdout",
     "output_type": "stream",
     "text": [
      "[    1     2     3 ... 73514 73515 73516]\n",
      "73515\n"
     ]
    }
   ],
   "source": [
    "unique_user = np.unique(mergedata['user_id'])\n",
    "print(unique_user)\n",
    "print(len(unique_user))"
   ]
  },
  {
   "cell_type": "code",
   "execution_count": 31,
   "metadata": {},
   "outputs": [
    {
     "name": "stdout",
     "output_type": "stream",
     "text": [
      "[    1     5     6 ... 34475 34476 34519]\n",
      "10756\n",
      "['&quot;0&quot;'\n",
      " '&quot;Aesop&quot; no Ohanashi yori: Ushi to Kaeru, Yokubatta Inu'\n",
      " '&quot;Bungaku Shoujo&quot; Kyou no Oyatsu: Hatsukoi' ...\n",
      " 'xxxHOLiC Movie: Manatsu no Yoru no Yume' 'xxxHOLiC Rou'\n",
      " 'xxxHOLiC Shunmuki']\n",
      "10755\n"
     ]
    }
   ],
   "source": [
    "unique_anime = np.unique(mergedata['anime_id'])\n",
    "print(unique_anime)\n",
    "print(len(unique_anime))\n",
    "unique_anime = np.unique(mergedata['name'])\n",
    "print(unique_anime)\n",
    "print(len(unique_anime))"
   ]
  },
  {
   "cell_type": "code",
   "execution_count": null,
   "metadata": {},
   "outputs": [],
   "source": [
    "#Now we are going to create a crosstable of 'user_id' and 'name' using pandas.crosstab\n",
    "#here we use 'user_id' as row or index and 'name' as column\n",
    "user_anime = pd.crosstab(mergedata['user_id'], mergedata['name'])\n",
    "user_anime.sample(5)"
   ]
  }
 ],
 "metadata": {
  "kernelspec": {
   "display_name": "Python 3",
   "language": "python",
   "name": "python3"
  },
  "language_info": {
   "codemirror_mode": {
    "name": "ipython",
    "version": 3
   },
   "file_extension": ".py",
   "mimetype": "text/x-python",
   "name": "python",
   "nbconvert_exporter": "python",
   "pygments_lexer": "ipython3",
   "version": "3.7.4"
  }
 },
 "nbformat": 4,
 "nbformat_minor": 2
}
